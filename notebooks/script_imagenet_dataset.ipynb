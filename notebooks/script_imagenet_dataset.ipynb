{
 "cells": [
  {
   "cell_type": "code",
   "execution_count": 1,
   "metadata": {
    "scrolled": true
   },
   "outputs": [],
   "source": [
    "import os\n",
    "import shutil\n",
    "import zipfile\n",
    "import urllib"
   ]
  },
  {
   "cell_type": "code",
   "execution_count": 2,
   "metadata": {},
   "outputs": [
    {
     "ename": "ImportError",
     "evalue": "cannot import name 'urlretrieve' from 'urllib' (/home/cindy/miniconda3/envs/mainenv/lib/python3.7/urllib/__init__.py)",
     "output_type": "error",
     "traceback": [
      "\u001b[0;31m---------------------------------------------------------------------------\u001b[0m",
      "\u001b[0;31mImportError\u001b[0m                               Traceback (most recent call last)",
      "\u001b[0;32m<ipython-input-2-ac833865e718>\u001b[0m in \u001b[0;36m<module>\u001b[0;34m\u001b[0m\n\u001b[1;32m      1\u001b[0m \u001b[0;32mfrom\u001b[0m \u001b[0mzipfile\u001b[0m \u001b[0;32mimport\u001b[0m \u001b[0mZipFile\u001b[0m\u001b[0;34m\u001b[0m\u001b[0;34m\u001b[0m\u001b[0m\n\u001b[0;32m----> 2\u001b[0;31m \u001b[0;32mfrom\u001b[0m \u001b[0murllib\u001b[0m \u001b[0;32mimport\u001b[0m \u001b[0murlretrieve\u001b[0m\u001b[0;34m\u001b[0m\u001b[0;34m\u001b[0m\u001b[0m\n\u001b[0m\u001b[1;32m      3\u001b[0m \u001b[0;32mfrom\u001b[0m \u001b[0mtempfile\u001b[0m \u001b[0;32mimport\u001b[0m \u001b[0mmktemp\u001b[0m\u001b[0;34m\u001b[0m\u001b[0;34m\u001b[0m\u001b[0m\n\u001b[1;32m      4\u001b[0m \u001b[0;34m\u001b[0m\u001b[0m\n\u001b[1;32m      5\u001b[0m \u001b[0mfilename\u001b[0m \u001b[0;34m=\u001b[0m \u001b[0mmktemp\u001b[0m\u001b[0;34m(\u001b[0m\u001b[0;34m'.zip'\u001b[0m\u001b[0;34m)\u001b[0m\u001b[0;34m\u001b[0m\u001b[0;34m\u001b[0m\u001b[0m\n",
      "\u001b[0;31mImportError\u001b[0m: cannot import name 'urlretrieve' from 'urllib' (/home/cindy/miniconda3/envs/mainenv/lib/python3.7/urllib/__init__.py)"
     ]
    }
   ],
   "source": [
    "from zipfile import ZipFile\n",
    "from urllib import urlretrieve\n",
    "from tempfile import mktemp\n",
    "\n",
    "filename = mktemp('.zip')\n",
    "destDir = mktemp()\n",
    "theurl = 'http://www.example.com/file.zip'\n",
    "name, hdrs = urlretrieve(theurl, filename)\n",
    "thefile=ZipFile(filename)\n",
    "thefile.extractall(destDir)\n",
    "thefile.close()"
   ]
  },
  {
   "cell_type": "code",
   "execution_count": 3,
   "metadata": {},
   "outputs": [],
   "source": [
    "os.mkdir(\"./test\")"
   ]
  },
  {
   "cell_type": "code",
   "execution_count": 5,
   "metadata": {},
   "outputs": [
    {
     "data": {
      "text/plain": [
       "1000"
      ]
     },
     "execution_count": 5,
     "metadata": {},
     "output_type": "execute_result"
    }
   ],
   "source": [
    "import requests\n",
    "import base64\n",
    "url = \"https://raw.githubusercontent.com/anishathalye/imagenet-simple-labels/master/imagenet-simple-labels.json\"\n",
    "len(eval(requests.get(url).text))"
   ]
  },
  {
   "cell_type": "code",
   "execution_count": 52,
   "metadata": {},
   "outputs": [],
   "source": [
    "import subprocess\n",
    "path =os.path.join(\"./test\",\"sdcard\",\"mlperf_datasets\")\n",
    "c = subprocess.run([\"mkdir\", \"-p\", path])\n",
    "test = subprocess.run([\"rm\",\"-r\", \"./test/sdcard\"])"
   ]
  },
  {
   "cell_type": "code",
   "execution_count": 59,
   "metadata": {},
   "outputs": [
    {
     "data": {
      "text/plain": [
       "1"
      ]
     },
     "execution_count": 59,
     "metadata": {},
     "output_type": "execute_result"
    }
   ],
   "source": [
    "test = subprocess.run([\"rm\",\"-r\", \"./t\"])\n",
    "test.returncode"
   ]
  },
  {
   "cell_type": "code",
   "execution_count": 58,
   "metadata": {},
   "outputs": [
    {
     "data": {
      "text/plain": [
       "CompletedProcess(args=['mkdir', '-p', './test/sdcard/mlperf_datasets'], returncode=0)"
      ]
     },
     "execution_count": 58,
     "metadata": {},
     "output_type": "execute_result"
    }
   ],
   "source": [
    "subprocess.run([\"mkdir\", \"-p\", path])"
   ]
  },
  {
   "cell_type": "code",
   "execution_count": 36,
   "metadata": {},
   "outputs": [],
   "source": [
    "url = \"https://github.com/anishathalye/imagenet-simple-labels/raw/master/imagenet-simple-labels.json\"\n",
    "url = 'https://api.github.com/repos/anishathalye/imagenet-simple-labels/contents/imagenet-simple-labels.json'\n",
    "\n",
    "response = requests.get(url) #get data from json file located at specified URL\n",
    "\n",
    "if response.status_code == requests.codes.ok:\n",
    "    jsonResponse = response.json()  # the response is a JSON\n",
    "    #the JSON is encoded in base 64, hence decode it\n",
    "    content = base64.b64decode(jsonResponse['content'])\n",
    "    #convert the byte stream to string\n",
    "    jsonString = content.decode('utf-8')\n",
    "    finalJson = json.loads(jsonString)\n",
    "else:\n",
    "    print('Content was not found.')"
   ]
  },
  {
   "cell_type": "code",
   "execution_count": 38,
   "metadata": {},
   "outputs": [
    {
     "data": {
      "text/plain": [
       "'[\"tench\",\\n\"goldfish\",\\n\"great white shark\",\\n\"tiger shark\",\\n\"hammerhead shark\",\\n\"electric ray\",\\n\"stingray\",\\n\"cock\",\\n\"hen\",\\n\"ostrich\",\\n\"brambling\",\\n\"goldfinch\",\\n\"house finch\",\\n\"junco\",\\n\"indigo bunting\",\\n\"American robin\",\\n\"bulbul\",\\n\"jay\",\\n\"magpie\",\\n\"chickadee\",\\n\"American dipper\",\\n\"kite\",\\n\"bald eagle\",\\n\"vulture\",\\n\"great grey owl\",\\n\"fire salamander\",\\n\"smooth newt\",\\n\"newt\",\\n\"spotted salamander\",\\n\"axolotl\",\\n\"American bullfrog\",\\n\"tree frog\",\\n\"tailed frog\",\\n\"loggerhead sea turtle\",\\n\"leatherback sea turtle\",\\n\"mud turtle\",\\n\"terrapin\",\\n\"box turtle\",\\n\"banded gecko\",\\n\"green iguana\",\\n\"Carolina anole\",\\n\"desert grassland whiptail lizard\",\\n\"agama\",\\n\"frilled-necked lizard\",\\n\"alligator lizard\",\\n\"Gila monster\",\\n\"European green lizard\",\\n\"chameleon\",\\n\"Komodo dragon\",\\n\"Nile crocodile\",\\n\"American alligator\",\\n\"triceratops\",\\n\"worm snake\",\\n\"ring-necked snake\",\\n\"eastern hog-nosed snake\",\\n\"smooth green snake\",\\n\"kingsnake\",\\n\"garter snake\",\\n\"water snake\",\\n\"vine snake\",\\n\"night snake\",\\n\"boa constrictor\",\\n\"African rock python\",\\n\"Indian cobra\",\\n\"green mamba\",\\n\"sea snake\",\\n\"Saharan horned viper\",\\n\"eastern diamondback rattlesnake\",\\n\"sidewinder\",\\n\"trilobite\",\\n\"harvestman\",\\n\"scorpion\",\\n\"yellow garden spider\",\\n\"barn spider\",\\n\"European garden spider\",\\n\"southern black widow\",\\n\"tarantula\",\\n\"wolf spider\",\\n\"tick\",\\n\"centipede\",\\n\"black grouse\",\\n\"ptarmigan\",\\n\"ruffed grouse\",\\n\"prairie grouse\",\\n\"peacock\",\\n\"quail\",\\n\"partridge\",\\n\"grey parrot\",\\n\"macaw\",\\n\"sulphur-crested cockatoo\",\\n\"lorikeet\",\\n\"coucal\",\\n\"bee eater\",\\n\"hornbill\",\\n\"hummingbird\",\\n\"jacamar\",\\n\"toucan\",\\n\"duck\",\\n\"red-breasted merganser\",\\n\"goose\",\\n\"black swan\",\\n\"tusker\",\\n\"echidna\",\\n\"platypus\",\\n\"wallaby\",\\n\"koala\",\\n\"wombat\",\\n\"jellyfish\",\\n\"sea anemone\",\\n\"brain coral\",\\n\"flatworm\",\\n\"nematode\",\\n\"conch\",\\n\"snail\",\\n\"slug\",\\n\"sea slug\",\\n\"chiton\",\\n\"chambered nautilus\",\\n\"Dungeness crab\",\\n\"rock crab\",\\n\"fiddler crab\",\\n\"red king crab\",\\n\"American lobster\",\\n\"spiny lobster\",\\n\"crayfish\",\\n\"hermit crab\",\\n\"isopod\",\\n\"white stork\",\\n\"black stork\",\\n\"spoonbill\",\\n\"flamingo\",\\n\"little blue heron\",\\n\"great egret\",\\n\"bittern\",\\n\"crane (bird)\",\\n\"limpkin\",\\n\"common gallinule\",\\n\"American coot\",\\n\"bustard\",\\n\"ruddy turnstone\",\\n\"dunlin\",\\n\"common redshank\",\\n\"dowitcher\",\\n\"oystercatcher\",\\n\"pelican\",\\n\"king penguin\",\\n\"albatross\",\\n\"grey whale\",\\n\"killer whale\",\\n\"dugong\",\\n\"sea lion\",\\n\"Chihuahua\",\\n\"Japanese Chin\",\\n\"Maltese\",\\n\"Pekingese\",\\n\"Shih Tzu\",\\n\"King Charles Spaniel\",\\n\"Papillon\",\\n\"toy terrier\",\\n\"Rhodesian Ridgeback\",\\n\"Afghan Hound\",\\n\"Basset Hound\",\\n\"Beagle\",\\n\"Bloodhound\",\\n\"Bluetick Coonhound\",\\n\"Black and Tan Coonhound\",\\n\"Treeing Walker Coonhound\",\\n\"English foxhound\",\\n\"Redbone Coonhound\",\\n\"borzoi\",\\n\"Irish Wolfhound\",\\n\"Italian Greyhound\",\\n\"Whippet\",\\n\"Ibizan Hound\",\\n\"Norwegian Elkhound\",\\n\"Otterhound\",\\n\"Saluki\",\\n\"Scottish Deerhound\",\\n\"Weimaraner\",\\n\"Staffordshire Bull Terrier\",\\n\"American Staffordshire Terrier\",\\n\"Bedlington Terrier\",\\n\"Border Terrier\",\\n\"Kerry Blue Terrier\",\\n\"Irish Terrier\",\\n\"Norfolk Terrier\",\\n\"Norwich Terrier\",\\n\"Yorkshire Terrier\",\\n\"Wire Fox Terrier\",\\n\"Lakeland Terrier\",\\n\"Sealyham Terrier\",\\n\"Airedale Terrier\",\\n\"Cairn Terrier\",\\n\"Australian Terrier\",\\n\"Dandie Dinmont Terrier\",\\n\"Boston Terrier\",\\n\"Miniature Schnauzer\",\\n\"Giant Schnauzer\",\\n\"Standard Schnauzer\",\\n\"Scottish Terrier\",\\n\"Tibetan Terrier\",\\n\"Australian Silky Terrier\",\\n\"Soft-coated Wheaten Terrier\",\\n\"West Highland White Terrier\",\\n\"Lhasa Apso\",\\n\"Flat-Coated Retriever\",\\n\"Curly-coated Retriever\",\\n\"Golden Retriever\",\\n\"Labrador Retriever\",\\n\"Chesapeake Bay Retriever\",\\n\"German Shorthaired Pointer\",\\n\"Vizsla\",\\n\"English Setter\",\\n\"Irish Setter\",\\n\"Gordon Setter\",\\n\"Brittany\",\\n\"Clumber Spaniel\",\\n\"English Springer Spaniel\",\\n\"Welsh Springer Spaniel\",\\n\"Cocker Spaniels\",\\n\"Sussex Spaniel\",\\n\"Irish Water Spaniel\",\\n\"Kuvasz\",\\n\"Schipperke\",\\n\"Groenendael\",\\n\"Malinois\",\\n\"Briard\",\\n\"Australian Kelpie\",\\n\"Komondor\",\\n\"Old English Sheepdog\",\\n\"Shetland Sheepdog\",\\n\"collie\",\\n\"Border Collie\",\\n\"Bouvier des Flandres\",\\n\"Rottweiler\",\\n\"German Shepherd Dog\",\\n\"Dobermann\",\\n\"Miniature Pinscher\",\\n\"Greater Swiss Mountain Dog\",\\n\"Bernese Mountain Dog\",\\n\"Appenzeller Sennenhund\",\\n\"Entlebucher Sennenhund\",\\n\"Boxer\",\\n\"Bullmastiff\",\\n\"Tibetan Mastiff\",\\n\"French Bulldog\",\\n\"Great Dane\",\\n\"St. Bernard\",\\n\"husky\",\\n\"Alaskan Malamute\",\\n\"Siberian Husky\",\\n\"Dalmatian\",\\n\"Affenpinscher\",\\n\"Basenji\",\\n\"pug\",\\n\"Leonberger\",\\n\"Newfoundland\",\\n\"Pyrenean Mountain Dog\",\\n\"Samoyed\",\\n\"Pomeranian\",\\n\"Chow Chow\",\\n\"Keeshond\",\\n\"Griffon Bruxellois\",\\n\"Pembroke Welsh Corgi\",\\n\"Cardigan Welsh Corgi\",\\n\"Toy Poodle\",\\n\"Miniature Poodle\",\\n\"Standard Poodle\",\\n\"Mexican hairless dog\",\\n\"grey wolf\",\\n\"Alaskan tundra wolf\",\\n\"red wolf\",\\n\"coyote\",\\n\"dingo\",\\n\"dhole\",\\n\"African wild dog\",\\n\"hyena\",\\n\"red fox\",\\n\"kit fox\",\\n\"Arctic fox\",\\n\"grey fox\",\\n\"tabby cat\",\\n\"tiger cat\",\\n\"Persian cat\",\\n\"Siamese cat\",\\n\"Egyptian Mau\",\\n\"cougar\",\\n\"lynx\",\\n\"leopard\",\\n\"snow leopard\",\\n\"jaguar\",\\n\"lion\",\\n\"tiger\",\\n\"cheetah\",\\n\"brown bear\",\\n\"American black bear\",\\n\"polar bear\",\\n\"sloth bear\",\\n\"mongoose\",\\n\"meerkat\",\\n\"tiger beetle\",\\n\"ladybug\",\\n\"ground beetle\",\\n\"longhorn beetle\",\\n\"leaf beetle\",\\n\"dung beetle\",\\n\"rhinoceros beetle\",\\n\"weevil\",\\n\"fly\",\\n\"bee\",\\n\"ant\",\\n\"grasshopper\",\\n\"cricket\",\\n\"stick insect\",\\n\"cockroach\",\\n\"mantis\",\\n\"cicada\",\\n\"leafhopper\",\\n\"lacewing\",\\n\"dragonfly\",\\n\"damselfly\",\\n\"red admiral\",\\n\"ringlet\",\\n\"monarch butterfly\",\\n\"small white\",\\n\"sulphur butterfly\",\\n\"gossamer-winged butterfly\",\\n\"starfish\",\\n\"sea urchin\",\\n\"sea cucumber\",\\n\"cottontail rabbit\",\\n\"hare\",\\n\"Angora rabbit\",\\n\"hamster\",\\n\"porcupine\",\\n\"fox squirrel\",\\n\"marmot\",\\n\"beaver\",\\n\"guinea pig\",\\n\"common sorrel\",\\n\"zebra\",\\n\"pig\",\\n\"wild boar\",\\n\"warthog\",\\n\"hippopotamus\",\\n\"ox\",\\n\"water buffalo\",\\n\"bison\",\\n\"ram\",\\n\"bighorn sheep\",\\n\"Alpine ibex\",\\n\"hartebeest\",\\n\"impala\",\\n\"gazelle\",\\n\"dromedary\",\\n\"llama\",\\n\"weasel\",\\n\"mink\",\\n\"European polecat\",\\n\"black-footed ferret\",\\n\"otter\",\\n\"skunk\",\\n\"badger\",\\n\"armadillo\",\\n\"three-toed sloth\",\\n\"orangutan\",\\n\"gorilla\",\\n\"chimpanzee\",\\n\"gibbon\",\\n\"siamang\",\\n\"guenon\",\\n\"patas monkey\",\\n\"baboon\",\\n\"macaque\",\\n\"langur\",\\n\"black-and-white colobus\",\\n\"proboscis monkey\",\\n\"marmoset\",\\n\"white-headed capuchin\",\\n\"howler monkey\",\\n\"titi\",\\n\"Geoffroy\\'s spider monkey\",\\n\"common squirrel monkey\",\\n\"ring-tailed lemur\",\\n\"indri\",\\n\"Asian elephant\",\\n\"African bush elephant\",\\n\"red panda\",\\n\"giant panda\",\\n\"snoek\",\\n\"eel\",\\n\"coho salmon\",\\n\"rock beauty\",\\n\"clownfish\",\\n\"sturgeon\",\\n\"garfish\",\\n\"lionfish\",\\n\"pufferfish\",\\n\"abacus\",\\n\"abaya\",\\n\"academic gown\",\\n\"accordion\",\\n\"acoustic guitar\",\\n\"aircraft carrier\",\\n\"airliner\",\\n\"airship\",\\n\"altar\",\\n\"ambulance\",\\n\"amphibious vehicle\",\\n\"analog clock\",\\n\"apiary\",\\n\"apron\",\\n\"waste container\",\\n\"assault rifle\",\\n\"backpack\",\\n\"bakery\",\\n\"balance beam\",\\n\"balloon\",\\n\"ballpoint pen\",\\n\"Band-Aid\",\\n\"banjo\",\\n\"baluster\",\\n\"barbell\",\\n\"barber chair\",\\n\"barbershop\",\\n\"barn\",\\n\"barometer\",\\n\"barrel\",\\n\"wheelbarrow\",\\n\"baseball\",\\n\"basketball\",\\n\"bassinet\",\\n\"bassoon\",\\n\"swimming cap\",\\n\"bath towel\",\\n\"bathtub\",\\n\"station wagon\",\\n\"lighthouse\",\\n\"beaker\",\\n\"military cap\",\\n\"beer bottle\",\\n\"beer glass\",\\n\"bell-cot\",\\n\"bib\",\\n\"tandem bicycle\",\\n\"bikini\",\\n\"ring binder\",\\n\"binoculars\",\\n\"birdhouse\",\\n\"boathouse\",\\n\"bobsleigh\",\\n\"bolo tie\",\\n\"poke bonnet\",\\n\"bookcase\",\\n\"bookstore\",\\n\"bottle cap\",\\n\"bow\",\\n\"bow tie\",\\n\"brass\",\\n\"bra\",\\n\"breakwater\",\\n\"breastplate\",\\n\"broom\",\\n\"bucket\",\\n\"buckle\",\\n\"bulletproof vest\",\\n\"high-speed train\",\\n\"butcher shop\",\\n\"taxicab\",\\n\"cauldron\",\\n\"candle\",\\n\"cannon\",\\n\"canoe\",\\n\"can opener\",\\n\"cardigan\",\\n\"car mirror\",\\n\"carousel\",\\n\"tool kit\",\\n\"carton\",\\n\"car wheel\",\\n\"automated teller machine\",\\n\"cassette\",\\n\"cassette player\",\\n\"castle\",\\n\"catamaran\",\\n\"CD player\",\\n\"cello\",\\n\"mobile phone\",\\n\"chain\",\\n\"chain-link fence\",\\n\"chain mail\",\\n\"chainsaw\",\\n\"chest\",\\n\"chiffonier\",\\n\"chime\",\\n\"china cabinet\",\\n\"Christmas stocking\",\\n\"church\",\\n\"movie theater\",\\n\"cleaver\",\\n\"cliff dwelling\",\\n\"cloak\",\\n\"clogs\",\\n\"cocktail shaker\",\\n\"coffee mug\",\\n\"coffeemaker\",\\n\"coil\",\\n\"combination lock\",\\n\"computer keyboard\",\\n\"confectionery store\",\\n\"container ship\",\\n\"convertible\",\\n\"corkscrew\",\\n\"cornet\",\\n\"cowboy boot\",\\n\"cowboy hat\",\\n\"cradle\",\\n\"crane (machine)\",\\n\"crash helmet\",\\n\"crate\",\\n\"infant bed\",\\n\"Crock Pot\",\\n\"croquet ball\",\\n\"crutch\",\\n\"cuirass\",\\n\"dam\",\\n\"desk\",\\n\"desktop computer\",\\n\"rotary dial telephone\",\\n\"diaper\",\\n\"digital clock\",\\n\"digital watch\",\\n\"dining table\",\\n\"dishcloth\",\\n\"dishwasher\",\\n\"disc brake\",\\n\"dock\",\\n\"dog sled\",\\n\"dome\",\\n\"doormat\",\\n\"drilling rig\",\\n\"drum\",\\n\"drumstick\",\\n\"dumbbell\",\\n\"Dutch oven\",\\n\"electric fan\",\\n\"electric guitar\",\\n\"electric locomotive\",\\n\"entertainment center\",\\n\"envelope\",\\n\"espresso machine\",\\n\"face powder\",\\n\"feather boa\",\\n\"filing cabinet\",\\n\"fireboat\",\\n\"fire engine\",\\n\"fire screen sheet\",\\n\"flagpole\",\\n\"flute\",\\n\"folding chair\",\\n\"football helmet\",\\n\"forklift\",\\n\"fountain\",\\n\"fountain pen\",\\n\"four-poster bed\",\\n\"freight car\",\\n\"French horn\",\\n\"frying pan\",\\n\"fur coat\",\\n\"garbage truck\",\\n\"gas mask\",\\n\"gas pump\",\\n\"goblet\",\\n\"go-kart\",\\n\"golf ball\",\\n\"golf cart\",\\n\"gondola\",\\n\"gong\",\\n\"gown\",\\n\"grand piano\",\\n\"greenhouse\",\\n\"grille\",\\n\"grocery store\",\\n\"guillotine\",\\n\"barrette\",\\n\"hair spray\",\\n\"half-track\",\\n\"hammer\",\\n\"hamper\",\\n\"hair dryer\",\\n\"hand-held computer\",\\n\"handkerchief\",\\n\"hard disk drive\",\\n\"harmonica\",\\n\"harp\",\\n\"harvester\",\\n\"hatchet\",\\n\"holster\",\\n\"home theater\",\\n\"honeycomb\",\\n\"hook\",\\n\"hoop skirt\",\\n\"horizontal bar\",\\n\"horse-drawn vehicle\",\\n\"hourglass\",\\n\"iPod\",\\n\"clothes iron\",\\n\"jack-o\\'-lantern\",\\n\"jeans\",\\n\"jeep\",\\n\"T-shirt\",\\n\"jigsaw puzzle\",\\n\"pulled rickshaw\",\\n\"joystick\",\\n\"kimono\",\\n\"knee pad\",\\n\"knot\",\\n\"lab coat\",\\n\"ladle\",\\n\"lampshade\",\\n\"laptop computer\",\\n\"lawn mower\",\\n\"lens cap\",\\n\"paper knife\",\\n\"library\",\\n\"lifeboat\",\\n\"lighter\",\\n\"limousine\",\\n\"ocean liner\",\\n\"lipstick\",\\n\"slip-on shoe\",\\n\"lotion\",\\n\"speaker\",\\n\"loupe\",\\n\"sawmill\",\\n\"magnetic compass\",\\n\"mail bag\",\\n\"mailbox\",\\n\"tights\",\\n\"tank suit\",\\n\"manhole cover\",\\n\"maraca\",\\n\"marimba\",\\n\"mask\",\\n\"match\",\\n\"maypole\",\\n\"maze\",\\n\"measuring cup\",\\n\"medicine chest\",\\n\"megalith\",\\n\"microphone\",\\n\"microwave oven\",\\n\"military uniform\",\\n\"milk can\",\\n\"minibus\",\\n\"miniskirt\",\\n\"minivan\",\\n\"missile\",\\n\"mitten\",\\n\"mixing bowl\",\\n\"mobile home\",\\n\"Model T\",\\n\"modem\",\\n\"monastery\",\\n\"monitor\",\\n\"moped\",\\n\"mortar\",\\n\"square academic cap\",\\n\"mosque\",\\n\"mosquito net\",\\n\"scooter\",\\n\"mountain bike\",\\n\"tent\",\\n\"computer mouse\",\\n\"mousetrap\",\\n\"moving van\",\\n\"muzzle\",\\n\"nail\",\\n\"neck brace\",\\n\"necklace\",\\n\"nipple\",\\n\"notebook computer\",\\n\"obelisk\",\\n\"oboe\",\\n\"ocarina\",\\n\"odometer\",\\n\"oil filter\",\\n\"organ\",\\n\"oscilloscope\",\\n\"overskirt\",\\n\"bullock cart\",\\n\"oxygen mask\",\\n\"packet\",\\n\"paddle\",\\n\"paddle wheel\",\\n\"padlock\",\\n\"paintbrush\",\\n\"pajamas\",\\n\"palace\",\\n\"pan flute\",\\n\"paper towel\",\\n\"parachute\",\\n\"parallel bars\",\\n\"park bench\",\\n\"parking meter\",\\n\"passenger car\",\\n\"patio\",\\n\"payphone\",\\n\"pedestal\",\\n\"pencil case\",\\n\"pencil sharpener\",\\n\"perfume\",\\n\"Petri dish\",\\n\"photocopier\",\\n\"plectrum\",\\n\"Pickelhaube\",\\n\"picket fence\",\\n\"pickup truck\",\\n\"pier\",\\n\"piggy bank\",\\n\"pill bottle\",\\n\"pillow\",\\n\"ping-pong ball\",\\n\"pinwheel\",\\n\"pirate ship\",\\n\"pitcher\",\\n\"hand plane\",\\n\"planetarium\",\\n\"plastic bag\",\\n\"plate rack\",\\n\"plow\",\\n\"plunger\",\\n\"Polaroid camera\",\\n\"pole\",\\n\"police van\",\\n\"poncho\",\\n\"billiard table\",\\n\"soda bottle\",\\n\"pot\",\\n\"potter\\'s wheel\",\\n\"power drill\",\\n\"prayer rug\",\\n\"printer\",\\n\"prison\",\\n\"projectile\",\\n\"projector\",\\n\"hockey puck\",\\n\"punching bag\",\\n\"purse\",\\n\"quill\",\\n\"quilt\",\\n\"race car\",\\n\"racket\",\\n\"radiator\",\\n\"radio\",\\n\"radio telescope\",\\n\"rain barrel\",\\n\"recreational vehicle\",\\n\"reel\",\\n\"reflex camera\",\\n\"refrigerator\",\\n\"remote control\",\\n\"restaurant\",\\n\"revolver\",\\n\"rifle\",\\n\"rocking chair\",\\n\"rotisserie\",\\n\"eraser\",\\n\"rugby ball\",\\n\"ruler\",\\n\"running shoe\",\\n\"safe\",\\n\"safety pin\",\\n\"salt shaker\",\\n\"sandal\",\\n\"sarong\",\\n\"saxophone\",\\n\"scabbard\",\\n\"weighing scale\",\\n\"school bus\",\\n\"schooner\",\\n\"scoreboard\",\\n\"CRT screen\",\\n\"screw\",\\n\"screwdriver\",\\n\"seat belt\",\\n\"sewing machine\",\\n\"shield\",\\n\"shoe store\",\\n\"shoji\",\\n\"shopping basket\",\\n\"shopping cart\",\\n\"shovel\",\\n\"shower cap\",\\n\"shower curtain\",\\n\"ski\",\\n\"ski mask\",\\n\"sleeping bag\",\\n\"slide rule\",\\n\"sliding door\",\\n\"slot machine\",\\n\"snorkel\",\\n\"snowmobile\",\\n\"snowplow\",\\n\"soap dispenser\",\\n\"soccer ball\",\\n\"sock\",\\n\"solar thermal collector\",\\n\"sombrero\",\\n\"soup bowl\",\\n\"space bar\",\\n\"space heater\",\\n\"space shuttle\",\\n\"spatula\",\\n\"motorboat\",\\n\"spider web\",\\n\"spindle\",\\n\"sports car\",\\n\"spotlight\",\\n\"stage\",\\n\"steam locomotive\",\\n\"through arch bridge\",\\n\"steel drum\",\\n\"stethoscope\",\\n\"scarf\",\\n\"stone wall\",\\n\"stopwatch\",\\n\"stove\",\\n\"strainer\",\\n\"tram\",\\n\"stretcher\",\\n\"couch\",\\n\"stupa\",\\n\"submarine\",\\n\"suit\",\\n\"sundial\",\\n\"sunglass\",\\n\"sunglasses\",\\n\"sunscreen\",\\n\"suspension bridge\",\\n\"mop\",\\n\"sweatshirt\",\\n\"swimsuit\",\\n\"swing\",\\n\"switch\",\\n\"syringe\",\\n\"table lamp\",\\n\"tank\",\\n\"tape player\",\\n\"teapot\",\\n\"teddy bear\",\\n\"television\",\\n\"tennis ball\",\\n\"thatched roof\",\\n\"front curtain\",\\n\"thimble\",\\n\"threshing machine\",\\n\"throne\",\\n\"tile roof\",\\n\"toaster\",\\n\"tobacco shop\",\\n\"toilet seat\",\\n\"torch\",\\n\"totem pole\",\\n\"tow truck\",\\n\"toy store\",\\n\"tractor\",\\n\"semi-trailer truck\",\\n\"tray\",\\n\"trench coat\",\\n\"tricycle\",\\n\"trimaran\",\\n\"tripod\",\\n\"triumphal arch\",\\n\"trolleybus\",\\n\"trombone\",\\n\"tub\",\\n\"turnstile\",\\n\"typewriter keyboard\",\\n\"umbrella\",\\n\"unicycle\",\\n\"upright piano\",\\n\"vacuum cleaner\",\\n\"vase\",\\n\"vault\",\\n\"velvet\",\\n\"vending machine\",\\n\"vestment\",\\n\"viaduct\",\\n\"violin\",\\n\"volleyball\",\\n\"waffle iron\",\\n\"wall clock\",\\n\"wallet\",\\n\"wardrobe\",\\n\"military aircraft\",\\n\"sink\",\\n\"washing machine\",\\n\"water bottle\",\\n\"water jug\",\\n\"water tower\",\\n\"whiskey jug\",\\n\"whistle\",\\n\"wig\",\\n\"window screen\",\\n\"window shade\",\\n\"Windsor tie\",\\n\"wine bottle\",\\n\"wing\",\\n\"wok\",\\n\"wooden spoon\",\\n\"wool\",\\n\"split-rail fence\",\\n\"shipwreck\",\\n\"yawl\",\\n\"yurt\",\\n\"website\",\\n\"comic book\",\\n\"crossword\",\\n\"traffic sign\",\\n\"traffic light\",\\n\"dust jacket\",\\n\"menu\",\\n\"plate\",\\n\"guacamole\",\\n\"consomme\",\\n\"hot pot\",\\n\"trifle\",\\n\"ice cream\",\\n\"ice pop\",\\n\"baguette\",\\n\"bagel\",\\n\"pretzel\",\\n\"cheeseburger\",\\n\"hot dog\",\\n\"mashed potato\",\\n\"cabbage\",\\n\"broccoli\",\\n\"cauliflower\",\\n\"zucchini\",\\n\"spaghetti squash\",\\n\"acorn squash\",\\n\"butternut squash\",\\n\"cucumber\",\\n\"artichoke\",\\n\"bell pepper\",\\n\"cardoon\",\\n\"mushroom\",\\n\"Granny Smith\",\\n\"strawberry\",\\n\"orange\",\\n\"lemon\",\\n\"fig\",\\n\"pineapple\",\\n\"banana\",\\n\"jackfruit\",\\n\"custard apple\",\\n\"pomegranate\",\\n\"hay\",\\n\"carbonara\",\\n\"chocolate syrup\",\\n\"dough\",\\n\"meatloaf\",\\n\"pizza\",\\n\"pot pie\",\\n\"burrito\",\\n\"red wine\",\\n\"espresso\",\\n\"cup\",\\n\"eggnog\",\\n\"alp\",\\n\"bubble\",\\n\"cliff\",\\n\"coral reef\",\\n\"geyser\",\\n\"lakeshore\",\\n\"promontory\",\\n\"shoal\",\\n\"seashore\",\\n\"valley\",\\n\"volcano\",\\n\"baseball player\",\\n\"bridegroom\",\\n\"scuba diver\",\\n\"rapeseed\",\\n\"daisy\",\\n\"yellow lady\\'s slipper\",\\n\"corn\",\\n\"acorn\",\\n\"rose hip\",\\n\"horse chestnut seed\",\\n\"coral fungus\",\\n\"agaric\",\\n\"gyromitra\",\\n\"stinkhorn mushroom\",\\n\"earth star\",\\n\"hen-of-the-woods\",\\n\"bolete\",\\n\"ear\",\\n\"toilet paper\"]\\n'"
      ]
     },
     "execution_count": 38,
     "metadata": {},
     "output_type": "execute_result"
    }
   ],
   "source": [
    "jsonString"
   ]
  },
  {
   "cell_type": "code",
   "execution_count": 27,
   "metadata": {},
   "outputs": [
    {
     "ename": "AttributeError",
     "evalue": "'str' object has no attribute 'read'",
     "output_type": "error",
     "traceback": [
      "\u001b[0;31m---------------------------------------------------------------------------\u001b[0m",
      "\u001b[0;31mAttributeError\u001b[0m                            Traceback (most recent call last)",
      "\u001b[0;32m<ipython-input-27-012a8d8004ea>\u001b[0m in \u001b[0;36m<module>\u001b[0;34m\u001b[0m\n\u001b[1;32m      1\u001b[0m \u001b[0;32mimport\u001b[0m \u001b[0mjson\u001b[0m\u001b[0;34m\u001b[0m\u001b[0;34m\u001b[0m\u001b[0m\n\u001b[0;32m----> 2\u001b[0;31m \u001b[0ma\u001b[0m \u001b[0;34m=\u001b[0m \u001b[0mjson\u001b[0m\u001b[0;34m.\u001b[0m\u001b[0mload\u001b[0m\u001b[0;34m(\u001b[0m\u001b[0;34m\"./bla.json\"\u001b[0m\u001b[0;34m)\u001b[0m\u001b[0;34m\u001b[0m\u001b[0;34m\u001b[0m\u001b[0m\n\u001b[0m",
      "\u001b[0;32m~/miniconda3/envs/mainenv/lib/python3.7/json/__init__.py\u001b[0m in \u001b[0;36mload\u001b[0;34m(fp, cls, object_hook, parse_float, parse_int, parse_constant, object_pairs_hook, **kw)\u001b[0m\n\u001b[1;32m    291\u001b[0m     \u001b[0mkwarg\u001b[0m\u001b[0;34m;\u001b[0m \u001b[0motherwise\u001b[0m\u001b[0;31m \u001b[0m\u001b[0;31m`\u001b[0m\u001b[0;31m`\u001b[0m\u001b[0mJSONDecoder\u001b[0m\u001b[0;31m`\u001b[0m\u001b[0;31m`\u001b[0m \u001b[0;32mis\u001b[0m \u001b[0mused\u001b[0m\u001b[0;34m.\u001b[0m\u001b[0;34m\u001b[0m\u001b[0;34m\u001b[0m\u001b[0m\n\u001b[1;32m    292\u001b[0m     \"\"\"\n\u001b[0;32m--> 293\u001b[0;31m     return loads(fp.read(),\n\u001b[0m\u001b[1;32m    294\u001b[0m         \u001b[0mcls\u001b[0m\u001b[0;34m=\u001b[0m\u001b[0mcls\u001b[0m\u001b[0;34m,\u001b[0m \u001b[0mobject_hook\u001b[0m\u001b[0;34m=\u001b[0m\u001b[0mobject_hook\u001b[0m\u001b[0;34m,\u001b[0m\u001b[0;34m\u001b[0m\u001b[0;34m\u001b[0m\u001b[0m\n\u001b[1;32m    295\u001b[0m         \u001b[0mparse_float\u001b[0m\u001b[0;34m=\u001b[0m\u001b[0mparse_float\u001b[0m\u001b[0;34m,\u001b[0m \u001b[0mparse_int\u001b[0m\u001b[0;34m=\u001b[0m\u001b[0mparse_int\u001b[0m\u001b[0;34m,\u001b[0m\u001b[0;34m\u001b[0m\u001b[0;34m\u001b[0m\u001b[0m\n",
      "\u001b[0;31mAttributeError\u001b[0m: 'str' object has no attribute 'read'"
     ]
    }
   ],
   "source": [
    "import json\n",
    "a = json.load(\"./bla.json\")"
   ]
  },
  {
   "cell_type": "code",
   "execution_count": 20,
   "metadata": {},
   "outputs": [],
   "source": [
    "url = 'https://github.com/ctrnh/mlperf_misc/raw/master/ADE20K_subset.zip'\n",
    "name, hdrs = urllib.request.urlretrieve(url, \"./test/ADE20K_subset.zip\")\n"
   ]
  },
  {
   "cell_type": "code",
   "execution_count": 22,
   "metadata": {},
   "outputs": [],
   "source": [
    "with zipfile.ZipFile(f\"{name}\", 'r') as z:\n",
    "    z.extractall(\"./test\")"
   ]
  },
  {
   "cell_type": "code",
   "execution_count": 3,
   "metadata": {},
   "outputs": [
    {
     "ename": "NameError",
     "evalue": "name 'urllib2' is not defined",
     "output_type": "error",
     "traceback": [
      "\u001b[0;31m---------------------------------------------------------------------------\u001b[0m",
      "\u001b[0;31mNameError\u001b[0m                                 Traceback (most recent call last)",
      "\u001b[0;32m<ipython-input-3-f3db60f5e128>\u001b[0m in \u001b[0;36m<module>\u001b[0;34m\u001b[0m\n\u001b[1;32m      1\u001b[0m \u001b[0;32mimport\u001b[0m \u001b[0murllib\u001b[0m\u001b[0;34m\u001b[0m\u001b[0;34m\u001b[0m\u001b[0m\n\u001b[1;32m      2\u001b[0m \u001b[0;34m\u001b[0m\u001b[0m\n\u001b[0;32m----> 3\u001b[0;31m \u001b[0mresponse\u001b[0m \u001b[0;34m=\u001b[0m \u001b[0murllib2\u001b[0m\u001b[0;34m.\u001b[0m\u001b[0murlopen\u001b[0m\u001b[0;34m(\u001b[0m\u001b[0;34m'https://github.com/ctrnh/mlperf_misc/blob/master/ADE20K_subset.zip'\u001b[0m\u001b[0;34m)\u001b[0m\u001b[0;34m\u001b[0m\u001b[0;34m\u001b[0m\u001b[0m\n\u001b[0m\u001b[1;32m      4\u001b[0m \u001b[0mzipcontent\u001b[0m\u001b[0;34m=\u001b[0m \u001b[0mresponse\u001b[0m\u001b[0;34m.\u001b[0m\u001b[0mread\u001b[0m\u001b[0;34m(\u001b[0m\u001b[0;34m)\u001b[0m\u001b[0;34m\u001b[0m\u001b[0;34m\u001b[0m\u001b[0m\n\u001b[1;32m      5\u001b[0m \u001b[0;34m\u001b[0m\u001b[0m\n",
      "\u001b[0;31mNameError\u001b[0m: name 'urllib2' is not defined"
     ]
    }
   ],
   "source": [
    "import urllib\n",
    "zip_path = \"./ADE20K_subset.zip\"\n",
    "\n",
    "response = urllib.urlopen(url, zip_path)\n",
    "z = zipfile.ZipFile(zip_path)\n",
    "\n"
   ]
  },
  {
   "cell_type": "code",
   "execution_count": 15,
   "metadata": {},
   "outputs": [],
   "source": [
    "old = \"./img_old\"\n",
    "list_img_old=os.listdir(old)\n",
    "list_img_old2 = os.listdir(old)"
   ]
  },
  {
   "cell_type": "code",
   "execution_count": 11,
   "metadata": {},
   "outputs": [],
   "source": [
    "import random\n",
    "random.shuffle(list_img_old)\n",
    "random.shuffle(list_img_old2)"
   ]
  },
  {
   "cell_type": "code",
   "execution_count": 16,
   "metadata": {},
   "outputs": [],
   "source": [
    "for oldimg in os.listdir(old):\n",
    "    idx_old = int(oldimg.split(\".\")[0].split(\"_\")[2])\n",
    "    new_img = f'./img/ILSVRC2012_val_{idx_old-1:08}.JPEG'\n",
    "    if idx_old-1 > 0:\n",
    "        shutil.copy(os.path.join(old,oldimg), new_img)"
   ]
  },
  {
   "cell_type": "code",
   "execution_count": 14,
   "metadata": {},
   "outputs": [],
   "source": [
    "for i,oldimg in enumerate((list_img_old)):\n",
    "    new_name = list_img_old2[i]\n",
    "    new_img = f'./img/{new_name}'\n",
    "    if idx_old-1 > 0:\n",
    "        shutil.copy(os.path.join(old,oldimg), new_img)"
   ]
  },
  {
   "cell_type": "code",
   "execution_count": null,
   "metadata": {},
   "outputs": [],
   "source": []
  }
 ],
 "metadata": {
  "kernelspec": {
   "display_name": "Python 3",
   "language": "python",
   "name": "python3"
  },
  "language_info": {
   "codemirror_mode": {
    "name": "ipython",
    "version": 3
   },
   "file_extension": ".py",
   "mimetype": "text/x-python",
   "name": "python",
   "nbconvert_exporter": "python",
   "pygments_lexer": "ipython3",
   "version": "3.7.3"
  },
  "toc": {
   "base_numbering": 1,
   "nav_menu": {},
   "number_sections": true,
   "sideBar": true,
   "skip_h1_title": false,
   "title_cell": "Table of Contents",
   "title_sidebar": "Contents",
   "toc_cell": false,
   "toc_position": {},
   "toc_section_display": true,
   "toc_window_display": false
  }
 },
 "nbformat": 4,
 "nbformat_minor": 2
}
